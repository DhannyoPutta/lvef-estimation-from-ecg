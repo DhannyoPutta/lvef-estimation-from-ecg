{
 "cells": [
  {
   "cell_type": "code",
   "execution_count": null,
   "id": "09514605",
   "metadata": {},
   "outputs": [],
   "source": [
    "import h5py\n",
    "import wfdb\n",
    "import pandas as pd\n",
    "import numpy as np\n",
    "from scipy.signal import butter, filtfilt  # Added for filtering\n",
    "from sklearn.model_selection import train_test_split\n",
    "from tensorflow.keras import layers, models, utils, callbacks\n",
    "from tqdm import tqdm\n",
    "import tensorflow as tf\n",
    "import os\n",
    "import matplotlib.pyplot as plt"
   ]
  },
  {
   "cell_type": "code",
   "execution_count": null,
   "id": "5498e329",
   "metadata": {},
   "outputs": [],
   "source": [
    "def butter_bandpass(lowcut, highcut, fs, order=5):\n",
    "    nyq = 0.5 * fs\n",
    "    low = lowcut / nyq\n",
    "    high = highcut / nyq\n",
    "    b, a = butter(order, [low, high], btype='band')\n",
    "    return b, a\n",
    "\n",
    "def butter_bandpass_filter(r_signal, lowcut, highcut, fs, order=5):\n",
    "    b, a = butter_bandpass(lowcut, highcut, fs, order = order)\n",
    "    f_signal = filtfilt(b, a, r_signal)\n",
    "    return f_signal"
   ]
  },
  {
   "cell_type": "code",
   "execution_count": null,
   "id": "e75fc7b2",
   "metadata": {},
   "outputs": [],
   "source": [
    "record_dir = \"F:\\\\physionet.org\\\\files\\\\music-sudden-cardiac-death\\\\1.0.1\\\\Holter_ECG\"\n",
    "record_path = f\"{record_dir}/P0043\"\n",
    "record = wfdb.rdrecord(record_path, channels=[0, 1, 2]) # Read only the first 3 leads by index\n",
    "signals = record.p_signal.astype(np.float32)\n",
    "fs = record.fs\n",
    "lead_1 = signals[:, 0]\n",
    "lead_2 = signals[:, 1]\n",
    "lead_3 = signals[:, 2]"
   ]
  },
  {
   "cell_type": "code",
   "execution_count": null,
   "id": "0d3c3b2a",
   "metadata": {},
   "outputs": [],
   "source": [
    "r_signal = lead_1\n",
    "f_signal = butter_bandpass_filter(r_signal, 1, 40, fs, order=5)\n",
    "\n",
    "plt.figure(figsize=(20,3))\n",
    "plt.plot(r_signal)\n",
    "\n",
    "plt.plot(f_signal,'r')\n",
    "plt.show()"
   ]
  },
  {
   "cell_type": "code",
   "execution_count": null,
   "id": "1d3d461e",
   "metadata": {},
   "outputs": [],
   "source": [
    "plt.figure(figsize=(20,2))\n",
    "plt.plot(r_signal[15000:26000])\n",
    "plt.plot(f_signal[15000:26000])"
   ]
  },
  {
   "cell_type": "code",
   "execution_count": 1,
   "id": "368070e5",
   "metadata": {},
   "outputs": [],
   "source": [
    "import os\n",
    "import logging\n",
    "import datetime\n",
    "import re\n",
    "from tqdm import tqdm\n",
    "import pandas as pd\n",
    "import numpy as np\n",
    "import tensorflow as tf\n",
    "import wfdb\n",
    "from scipy.signal import butter, lfilter, filtfilt\n",
    "from IPython import get_ipython\n",
    "import matplotlib.pyplot as plt\n",
    "\n",
    "def butter_bandpass(lowcut, highcut, fs, order=5):\n",
    "    nyq = 0.5 * fs\n",
    "    low = lowcut / nyq\n",
    "    high = highcut / nyq\n",
    "    b, a = butter(order, [low, high], btype='band')\n",
    "    return b, a\n",
    "\n",
    "def butter_bandpass_filter(r_signal, lowcut, highcut, fs, order=5):\n",
    "    b, a = butter_bandpass(lowcut, highcut, fs, order=order)\n",
    "    f_signal = filtfilt(b, a, r_signal)\n",
    "    return f_signal\n",
    "\n",
    "import os\n",
    "import numpy as np\n",
    "import matplotlib.pyplot as plt\n",
    "\n",
    "def plot_and_save_single_ecg(signal, patient_id, output_dir, sampling_rate, plot_filename):\n",
    "    \"\"\"\n",
    "    Plots a single ECG signal and saves it as a separate image file.\n",
    "\n",
    "    Args:\n",
    "        signal (np.array): A 1D numpy array representing the ECG signal.\n",
    "        patient_id (str or int): The patient ID corresponding to the signal.\n",
    "        output_dir (str): The directory where the image files will be saved.\n",
    "        sampling_rate (float): The sampling rate of the ECG signal (samples per second).\n",
    "        plot_filename (str): The specific filename for this plot.\n",
    "    \"\"\"\n",
    "    os.makedirs(output_dir, exist_ok=True)\n",
    "\n",
    "    time = np.arange(signal.shape[0]) / sampling_rate\n",
    "\n",
    "    fig, ax = plt.subplots(figsize=(10, 5)) # Adjust figsize as needed for a single plot\n",
    "    ax.plot(time, signal)\n",
    "    ax.grid(False) # Removes the grid lines\n",
    "\n",
    "    # Remove tick labels from x and y axes\n",
    "    ax.set_xticks([])\n",
    "    ax.set_yticks([])\n",
    "\n",
    "    # You had these commented out in your previous response. If you want a title, uncomment:\n",
    "    # ax.set_title(f\"Patient ID: {patient_id}\", fontsize=12)\n",
    "    # ax.set_xlabel(\"Time (seconds)\", fontsize=10)\n",
    "    # ax.set_ylabel(\"Amplitude\", fontsize=10)\n",
    "    # ax.tick_params(axis='both', which='major', labelsize=8) # This line controls label size, but set_xticks/yticks will make them disappear.\n",
    "\n",
    "    plt.tight_layout()\n",
    "    plt.savefig(os.path.join(output_dir, plot_filename))\n",
    "    plt.close(fig) # Close the figure to free up memory\n",
    "\n",
    "\n",
    "def process_and_inspect_ecg(patient_ids, record_dir, refTable, inspection_dir, sampling_rate, window_seconds=5, start_offset_seconds=3600, lead_index=0, inspection_frequency=1):\n",
    "    \"\"\"\n",
    "    Processes ECG signals and periodically saves individual ECG windows for inspection.\n",
    "\n",
    "    Args:\n",
    "        patient_ids (list): List of patient IDs to process.\n",
    "        record_dir (str): Directory containing the WFDB record files.\n",
    "        refTable (pd.DataFrame): DataFrame containing patient information.\n",
    "        inspection_dir (str): Directory to save inspection plot images.\n",
    "        sampling_rate (int): Expected sampling rate of the ECG signals.\n",
    "        window_seconds (int): The size of the window in seconds to extract.\n",
    "        start_offset_seconds (int): Starting offset in seconds.\n",
    "        lead_index (int): The index of the lead to process.\n",
    "        inspection_frequency (int): Save an inspection plot every N processed patients.\n",
    "    \"\"\"\n",
    "    os.makedirs(inspection_dir, exist_ok=True)\n",
    "\n",
    "    target_window_size = int(window_seconds * sampling_rate)\n",
    "    start_index = int(start_offset_seconds * sampling_rate)\n",
    "\n",
    "    for i, pid in enumerate(tqdm(patient_ids, desc=f\"Processing ECGs for inspection ({window_seconds} sec, Lead {lead_index})\")):\n",
    "        record_path = f\"{record_dir}/{pid}\"\n",
    "        try:\n",
    "            record = wfdb.rdrecord(record_path, channels=[lead_index])\n",
    "            signals = record.p_signal.astype(np.float32)\n",
    "            fields = record.__dict__\n",
    "            fs = fields['fs']\n",
    "\n",
    "            if fs != sampling_rate:\n",
    "                print(f\"Sampling rate mismatch for patient {pid}. Skipping.\")\n",
    "                continue\n",
    "            if signals.shape[1] < 1:\n",
    "                print(f\"Less than 1 lead for patient {pid}. Skipping.\")\n",
    "                continue\n",
    "            if len(signals) < start_index + target_window_size:\n",
    "                print(f\"Signal too short for patient {pid}. Skipping.\")\n",
    "                continue\n",
    "\n",
    "            window = signals[start_index:start_index + target_window_size, 0]\n",
    "            filtered_signal = butter_bandpass_filter(window, 1, 40, fs, order=5)\n",
    "\n",
    "            patient_row = refTable[refTable['Patient_ID'] == pid]\n",
    "            if patient_row.empty:\n",
    "                print(f\"Patient {pid} not in refTable. Skipping.\")\n",
    "                continue\n",
    "\n",
    "            # --- ECG plot generation for inspection ---\n",
    "            if (i + 1) % inspection_frequency == 0:\n",
    "                plot_filename = f\"{pid}.png\"\n",
    "                plot_and_save_single_ecg(filtered_signal, pid, inspection_dir, sampling_rate, plot_filename)\n",
    "            # --- End of ECG plot generation ---\n",
    "\n",
    "        except Exception as e:\n",
    "            print(f\"Error processing patient {pid}: {e}\")"
   ]
  },
  {
   "cell_type": "code",
   "execution_count": 3,
   "id": "df0f4564",
   "metadata": {},
   "outputs": [
    {
     "name": "stderr",
     "output_type": "stream",
     "text": [
      "Processing ECGs for inspection (5 sec, Lead 1):  26%|██▌       | 177/694 [02:56<09:08,  1.06s/it]"
     ]
    },
    {
     "name": "stdout",
     "output_type": "stream",
     "text": [
      "Error processing patient P0300: [Errno 2] No such file or directory: 'F:/physionet.org/files/music-sudden-cardiac-death/1.0.1/Holter_ECG/P0300.hea'\n"
     ]
    },
    {
     "name": "stderr",
     "output_type": "stream",
     "text": [
      "Processing ECGs for inspection (5 sec, Lead 1):  32%|███▏      | 220/694 [03:39<09:22,  1.19s/it]"
     ]
    },
    {
     "name": "stdout",
     "output_type": "stream",
     "text": [
      "Error processing patient P0368: [Errno 2] No such file or directory: 'F:/physionet.org/files/music-sudden-cardiac-death/1.0.1/Holter_ECG/P0368.hea'\n",
      "Error processing patient P0369: [Errno 2] No such file or directory: 'F:/physionet.org/files/music-sudden-cardiac-death/1.0.1/Holter_ECG/P0369.hea'\n",
      "Error processing patient P0370: [Errno 2] No such file or directory: 'F:/physionet.org/files/music-sudden-cardiac-death/1.0.1/Holter_ECG/P0370.hea'\n"
     ]
    },
    {
     "name": "stderr",
     "output_type": "stream",
     "text": [
      "Processing ECGs for inspection (5 sec, Lead 1):  34%|███▎      | 233/694 [03:50<07:31,  1.02it/s]"
     ]
    },
    {
     "name": "stdout",
     "output_type": "stream",
     "text": [
      "Error processing patient P0383: [Errno 2] No such file or directory: 'F:/physionet.org/files/music-sudden-cardiac-death/1.0.1/Holter_ECG/P0383.hea'\n"
     ]
    },
    {
     "name": "stderr",
     "output_type": "stream",
     "text": [
      "Processing ECGs for inspection (5 sec, Lead 1):  34%|███▍      | 235/694 [03:51<05:22,  1.42it/s]"
     ]
    },
    {
     "name": "stdout",
     "output_type": "stream",
     "text": [
      "Error processing patient P0385: [Errno 2] No such file or directory: 'F:/physionet.org/files/music-sudden-cardiac-death/1.0.1/Holter_ECG/P0385.hea'\n"
     ]
    },
    {
     "name": "stderr",
     "output_type": "stream",
     "text": [
      "Processing ECGs for inspection (5 sec, Lead 1):  34%|███▍      | 238/694 [03:52<04:57,  1.53it/s]"
     ]
    },
    {
     "name": "stdout",
     "output_type": "stream",
     "text": [
      "Error processing patient P0388: [Errno 2] No such file or directory: 'F:/physionet.org/files/music-sudden-cardiac-death/1.0.1/Holter_ECG/P0388.dat'\n"
     ]
    },
    {
     "name": "stderr",
     "output_type": "stream",
     "text": [
      "Processing ECGs for inspection (5 sec, Lead 1):  35%|███▍      | 242/694 [03:55<05:22,  1.40it/s]"
     ]
    },
    {
     "name": "stdout",
     "output_type": "stream",
     "text": [
      "Error processing patient P0397: [Errno 2] No such file or directory: 'F:/physionet.org/files/music-sudden-cardiac-death/1.0.1/Holter_ECG/P0397.hea'\n"
     ]
    },
    {
     "name": "stderr",
     "output_type": "stream",
     "text": [
      "Processing ECGs for inspection (5 sec, Lead 1):  38%|███▊      | 266/694 [04:19<06:28,  1.10it/s]"
     ]
    },
    {
     "name": "stdout",
     "output_type": "stream",
     "text": [
      "Error processing patient P0429: [Errno 2] No such file or directory: 'F:/physionet.org/files/music-sudden-cardiac-death/1.0.1/Holter_ECG/P0429.hea'\n"
     ]
    },
    {
     "name": "stderr",
     "output_type": "stream",
     "text": [
      "Processing ECGs for inspection (5 sec, Lead 1):  39%|███▊      | 268/694 [04:20<05:09,  1.38it/s]"
     ]
    },
    {
     "name": "stdout",
     "output_type": "stream",
     "text": [
      "Error processing patient P0431: [Errno 2] No such file or directory: 'F:/physionet.org/files/music-sudden-cardiac-death/1.0.1/Holter_ECG/P0431.hea'\n",
      "Error processing patient P0432: [Errno 2] No such file or directory: 'F:/physionet.org/files/music-sudden-cardiac-death/1.0.1/Holter_ECG/P0432.hea'\n",
      "Error processing patient P0433: [Errno 2] No such file or directory: 'F:/physionet.org/files/music-sudden-cardiac-death/1.0.1/Holter_ECG/P0433.hea'\n"
     ]
    },
    {
     "name": "stderr",
     "output_type": "stream",
     "text": [
      "Processing ECGs for inspection (5 sec, Lead 1):  39%|███▉      | 274/694 [04:22<04:12,  1.67it/s]"
     ]
    },
    {
     "name": "stdout",
     "output_type": "stream",
     "text": [
      "Error processing patient P0440: [Errno 2] No such file or directory: 'F:/physionet.org/files/music-sudden-cardiac-death/1.0.1/Holter_ECG/P0440.hea'\n"
     ]
    },
    {
     "name": "stderr",
     "output_type": "stream",
     "text": [
      "Processing ECGs for inspection (5 sec, Lead 1):  43%|████▎     | 300/694 [04:51<08:07,  1.24s/it]"
     ]
    },
    {
     "name": "stdout",
     "output_type": "stream",
     "text": [
      "Error processing patient P0477: [Errno 2] No such file or directory: 'F:/physionet.org/files/music-sudden-cardiac-death/1.0.1/Holter_ECG/P0477.hea'\n"
     ]
    },
    {
     "name": "stderr",
     "output_type": "stream",
     "text": [
      "Processing ECGs for inspection (5 sec, Lead 1):  51%|█████     | 351/694 [05:47<05:52,  1.03s/it]"
     ]
    },
    {
     "name": "stdout",
     "output_type": "stream",
     "text": [
      "Error processing patient P0553: [Errno 2] No such file or directory: 'F:/physionet.org/files/music-sudden-cardiac-death/1.0.1/Holter_ECG/P0553.hea'\n"
     ]
    },
    {
     "name": "stderr",
     "output_type": "stream",
     "text": [
      "Processing ECGs for inspection (5 sec, Lead 1):  52%|█████▏    | 360/694 [05:55<06:01,  1.08s/it]"
     ]
    },
    {
     "name": "stdout",
     "output_type": "stream",
     "text": [
      "Error processing patient P0570: [Errno 2] No such file or directory: 'F:/physionet.org/files/music-sudden-cardiac-death/1.0.1/Holter_ECG/P0570.hea'\n"
     ]
    },
    {
     "name": "stderr",
     "output_type": "stream",
     "text": [
      "Processing ECGs for inspection (5 sec, Lead 1):  66%|██████▌   | 459/694 [07:45<05:01,  1.28s/it]"
     ]
    },
    {
     "name": "stdout",
     "output_type": "stream",
     "text": [
      "Error processing patient P0703: [Errno 2] No such file or directory: 'F:/physionet.org/files/music-sudden-cardiac-death/1.0.1/Holter_ECG/P0703.hea'\n"
     ]
    },
    {
     "name": "stderr",
     "output_type": "stream",
     "text": [
      "Processing ECGs for inspection (5 sec, Lead 1):  68%|██████▊   | 472/694 [07:58<03:50,  1.04s/it]"
     ]
    },
    {
     "name": "stdout",
     "output_type": "stream",
     "text": [
      "Error processing patient P0718: [Errno 2] No such file or directory: 'F:/physionet.org/files/music-sudden-cardiac-death/1.0.1/Holter_ECG/P0718.hea'\n"
     ]
    },
    {
     "name": "stderr",
     "output_type": "stream",
     "text": [
      "Processing ECGs for inspection (5 sec, Lead 1):  68%|██████▊   | 475/694 [08:00<03:11,  1.14it/s]"
     ]
    },
    {
     "name": "stdout",
     "output_type": "stream",
     "text": [
      "Error processing patient P0722: [Errno 2] No such file or directory: 'F:/physionet.org/files/music-sudden-cardiac-death/1.0.1/Holter_ECG/P0722.hea'\n"
     ]
    },
    {
     "name": "stderr",
     "output_type": "stream",
     "text": [
      "Processing ECGs for inspection (5 sec, Lead 1):  77%|███████▋  | 531/694 [09:00<02:41,  1.01it/s]"
     ]
    },
    {
     "name": "stdout",
     "output_type": "stream",
     "text": [
      "Error processing patient P0809: [Errno 2] No such file or directory: 'F:/physionet.org/files/music-sudden-cardiac-death/1.0.1/Holter_ECG/P0809.hea'\n"
     ]
    },
    {
     "name": "stderr",
     "output_type": "stream",
     "text": [
      "Processing ECGs for inspection (5 sec, Lead 1):  80%|███████▉  | 552/694 [09:22<02:48,  1.18s/it]"
     ]
    },
    {
     "name": "stdout",
     "output_type": "stream",
     "text": [
      "Error processing patient P0830: [Errno 2] No such file or directory: 'F:/physionet.org/files/music-sudden-cardiac-death/1.0.1/Holter_ECG/P0830.hea'\n"
     ]
    },
    {
     "name": "stderr",
     "output_type": "stream",
     "text": [
      "Processing ECGs for inspection (5 sec, Lead 1):  82%|████████▏ | 571/694 [09:44<02:33,  1.24s/it]"
     ]
    },
    {
     "name": "stdout",
     "output_type": "stream",
     "text": [
      "Error processing patient P0858: [Errno 2] No such file or directory: 'F:/physionet.org/files/music-sudden-cardiac-death/1.0.1/Holter_ECG/P0858.hea'\n"
     ]
    },
    {
     "name": "stderr",
     "output_type": "stream",
     "text": [
      "Processing ECGs for inspection (5 sec, Lead 1):  84%|████████▎ | 581/694 [09:55<02:18,  1.23s/it]"
     ]
    },
    {
     "name": "stdout",
     "output_type": "stream",
     "text": [
      "Error processing patient P0869: [Errno 2] No such file or directory: 'F:/physionet.org/files/music-sudden-cardiac-death/1.0.1/Holter_ECG/P0869.hea'\n"
     ]
    },
    {
     "name": "stderr",
     "output_type": "stream",
     "text": [
      "Processing ECGs for inspection (5 sec, Lead 1):  86%|████████▌ | 598/694 [10:16<02:02,  1.28s/it]"
     ]
    },
    {
     "name": "stdout",
     "output_type": "stream",
     "text": [
      "Error processing patient P0899: [Errno 2] No such file or directory: 'F:/physionet.org/files/music-sudden-cardiac-death/1.0.1/Holter_ECG/P0899.hea'\n"
     ]
    },
    {
     "name": "stderr",
     "output_type": "stream",
     "text": [
      "Processing ECGs for inspection (5 sec, Lead 1):  87%|████████▋ | 606/694 [10:25<01:35,  1.08s/it]"
     ]
    },
    {
     "name": "stdout",
     "output_type": "stream",
     "text": [
      "Error processing patient P0908: [Errno 2] No such file or directory: 'F:/physionet.org/files/music-sudden-cardiac-death/1.0.1/Holter_ECG/P0908.hea'\n"
     ]
    },
    {
     "name": "stderr",
     "output_type": "stream",
     "text": [
      "Processing ECGs for inspection (5 sec, Lead 1):  91%|█████████ | 629/694 [10:47<00:56,  1.16it/s]"
     ]
    },
    {
     "name": "stdout",
     "output_type": "stream",
     "text": [
      "Error processing patient P0944: [Errno 2] No such file or directory: 'F:/physionet.org/files/music-sudden-cardiac-death/1.0.1/Holter_ECG/P0944.hea'\n"
     ]
    },
    {
     "name": "stderr",
     "output_type": "stream",
     "text": [
      "Processing ECGs for inspection (5 sec, Lead 1):  91%|█████████ | 633/694 [10:50<00:44,  1.38it/s]"
     ]
    },
    {
     "name": "stdout",
     "output_type": "stream",
     "text": [
      "Error processing patient P0948: [Errno 2] No such file or directory: 'F:/physionet.org/files/music-sudden-cardiac-death/1.0.1/Holter_ECG/P0948.hea'\n"
     ]
    },
    {
     "name": "stderr",
     "output_type": "stream",
     "text": [
      "Processing ECGs for inspection (5 sec, Lead 1):  91%|█████████▏| 635/694 [10:51<00:35,  1.67it/s]"
     ]
    },
    {
     "name": "stdout",
     "output_type": "stream",
     "text": [
      "Error processing patient P0950: [Errno 2] No such file or directory: 'F:/physionet.org/files/music-sudden-cardiac-death/1.0.1/Holter_ECG/P0950.hea'\n",
      "Error processing patient P0952: [Errno 2] No such file or directory: 'F:/physionet.org/files/music-sudden-cardiac-death/1.0.1/Holter_ECG/P0952.hea'\n"
     ]
    },
    {
     "name": "stderr",
     "output_type": "stream",
     "text": [
      "Processing ECGs for inspection (5 sec, Lead 1):  93%|█████████▎| 642/694 [10:55<00:35,  1.46it/s]"
     ]
    },
    {
     "name": "stdout",
     "output_type": "stream",
     "text": [
      "Error processing patient P0959: [Errno 2] No such file or directory: 'F:/physionet.org/files/music-sudden-cardiac-death/1.0.1/Holter_ECG/P0959.hea'\n"
     ]
    },
    {
     "name": "stderr",
     "output_type": "stream",
     "text": [
      "Processing ECGs for inspection (5 sec, Lead 1):  93%|█████████▎| 645/694 [10:56<00:28,  1.73it/s]"
     ]
    },
    {
     "name": "stdout",
     "output_type": "stream",
     "text": [
      "Error processing patient P0963: [Errno 2] No such file or directory: 'F:/physionet.org/files/music-sudden-cardiac-death/1.0.1/Holter_ECG/P0963.hea'\n"
     ]
    },
    {
     "name": "stderr",
     "output_type": "stream",
     "text": [
      "Processing ECGs for inspection (5 sec, Lead 1):  93%|█████████▎| 647/694 [10:57<00:24,  1.92it/s]"
     ]
    },
    {
     "name": "stdout",
     "output_type": "stream",
     "text": [
      "Error processing patient P0966: [Errno 2] No such file or directory: 'F:/physionet.org/files/music-sudden-cardiac-death/1.0.1/Holter_ECG/P0966.hea'\n"
     ]
    },
    {
     "name": "stderr",
     "output_type": "stream",
     "text": [
      "Processing ECGs for inspection (5 sec, Lead 1):  94%|█████████▍| 654/694 [11:03<00:34,  1.17it/s]"
     ]
    },
    {
     "name": "stdout",
     "output_type": "stream",
     "text": [
      "Error processing patient P0979: [Errno 2] No such file or directory: 'F:/physionet.org/files/music-sudden-cardiac-death/1.0.1/Holter_ECG/P0979.hea'\n"
     ]
    },
    {
     "name": "stderr",
     "output_type": "stream",
     "text": [
      "Processing ECGs for inspection (5 sec, Lead 1):  95%|█████████▌| 661/694 [11:10<00:32,  1.01it/s]"
     ]
    },
    {
     "name": "stdout",
     "output_type": "stream",
     "text": [
      "Error processing patient P0993: [Errno 2] No such file or directory: 'F:/physionet.org/files/music-sudden-cardiac-death/1.0.1/Holter_ECG/P0993.hea'\n",
      "Error processing patient P0994: [Errno 2] No such file or directory: 'F:/physionet.org/files/music-sudden-cardiac-death/1.0.1/Holter_ECG/P0994.hea'\n",
      "Error processing patient P0995: [Errno 2] No such file or directory: 'F:/physionet.org/files/music-sudden-cardiac-death/1.0.1/Holter_ECG/P0995.hea'\n"
     ]
    },
    {
     "name": "stderr",
     "output_type": "stream",
     "text": [
      "Processing ECGs for inspection (5 sec, Lead 1):  96%|█████████▌| 667/694 [11:13<00:19,  1.39it/s]"
     ]
    },
    {
     "name": "stdout",
     "output_type": "stream",
     "text": [
      "Error processing patient P1000: [Errno 2] No such file or directory: 'F:/physionet.org/files/music-sudden-cardiac-death/1.0.1/Holter_ECG/P1000.hea'\n"
     ]
    },
    {
     "name": "stderr",
     "output_type": "stream",
     "text": [
      "Processing ECGs for inspection (5 sec, Lead 1):  96%|█████████▋| 669/694 [11:14<00:16,  1.53it/s]"
     ]
    },
    {
     "name": "stdout",
     "output_type": "stream",
     "text": [
      "Error processing patient P1003: [Errno 2] No such file or directory: 'F:/physionet.org/files/music-sudden-cardiac-death/1.0.1/Holter_ECG/P1003.hea'\n"
     ]
    },
    {
     "name": "stderr",
     "output_type": "stream",
     "text": [
      "Processing ECGs for inspection (5 sec, Lead 1):  98%|█████████▊| 677/694 [11:21<00:16,  1.04it/s]"
     ]
    },
    {
     "name": "stdout",
     "output_type": "stream",
     "text": [
      "Error processing patient P1022: [Errno 2] No such file or directory: 'F:/physionet.org/files/music-sudden-cardiac-death/1.0.1/Holter_ECG/P1022.hea'\n",
      "Error processing patient P1025: [Errno 2] No such file or directory: 'F:/physionet.org/files/music-sudden-cardiac-death/1.0.1/Holter_ECG/P1025.hea'\n"
     ]
    },
    {
     "name": "stderr",
     "output_type": "stream",
     "text": [
      "Processing ECGs for inspection (5 sec, Lead 1):  98%|█████████▊| 680/694 [11:22<00:08,  1.61it/s]"
     ]
    },
    {
     "name": "stdout",
     "output_type": "stream",
     "text": [
      "Error processing patient P1028: [Errno 2] No such file or directory: 'F:/physionet.org/files/music-sudden-cardiac-death/1.0.1/Holter_ECG/P1028.hea'\n"
     ]
    },
    {
     "name": "stderr",
     "output_type": "stream",
     "text": [
      "Processing ECGs for inspection (5 sec, Lead 1):  99%|█████████▊| 684/694 [11:25<00:07,  1.30it/s]"
     ]
    },
    {
     "name": "stdout",
     "output_type": "stream",
     "text": [
      "Error processing patient P1033: [Errno 2] No such file or directory: 'F:/physionet.org/files/music-sudden-cardiac-death/1.0.1/Holter_ECG/P1033.hea'\n"
     ]
    },
    {
     "name": "stderr",
     "output_type": "stream",
     "text": [
      "Processing ECGs for inspection (5 sec, Lead 1): 100%|██████████| 694/694 [11:33<00:00,  1.00it/s]"
     ]
    },
    {
     "name": "stdout",
     "output_type": "stream",
     "text": [
      "Error processing patient P1083: [Errno 2] No such file or directory: 'F:/physionet.org/files/music-sudden-cardiac-death/1.0.1/Holter_ECG/P1083.hea'\n",
      "ECG inspection plot generation completed.\n"
     ]
    },
    {
     "name": "stderr",
     "output_type": "stream",
     "text": [
      "\n"
     ]
    }
   ],
   "source": [
    "import pandas as pd\n",
    "import os\n",
    "# Assuming setup_logger is no longer needed/defined if skipping logging\n",
    "\n",
    "# Example usage\n",
    "if __name__ == '__main__':\n",
    "    data_prep_dir = \"./data_preparation\"\n",
    "    os.makedirs(data_prep_dir, exist_ok=True)\n",
    "    # log_directory = os.path.join(data_prep_dir, \"logs\") # No longer needed\n",
    "    inspection_directory = os.path.join(data_prep_dir, \"ecg-images\")\n",
    "\n",
    "    # logger = setup_logger(log_directory) # No longer needed\n",
    "    # logger.info(\"Starting TFRecord generation with inspection (9 plots per image).\") # No longer needed\n",
    "\n",
    "    refTable = pd.read_csv('resources/reference-table.csv')\n",
    "    all_patients = refTable['Patient_ID'].tolist()\n",
    "    num_patients = len(all_patients)\n",
    "\n",
    "    record_directory = \"F:\\\\physionet.org\\\\files\\\\music-sudden-cardiac-death\\\\1.0.1\\\\Holter_ECG\"\n",
    "    # output_directory = os.path.join(data_prep_dir, \"tfrecords-5seconds-singlelead\") # No longer needed\n",
    "    reference_table = refTable\n",
    "    sampling_rate = 200\n",
    "    train_patient_ids = all_patients[:num_patients]\n",
    "    lead_to_process = 1 # Index of lead\n",
    "    window_size_seconds = 5\n",
    "    inspection_frequency = 1\n",
    "    # plots_per_image = 9 # No longer needed, as it's one plot per image\n",
    "\n",
    "    # Call the updated function\n",
    "    process_and_inspect_ecg(\n",
    "        train_patient_ids,\n",
    "        record_directory,\n",
    "        reference_table,\n",
    "        inspection_directory,\n",
    "        sampling_rate,\n",
    "        window_size_seconds,\n",
    "        lead_index=lead_to_process,\n",
    "        inspection_frequency=inspection_frequency\n",
    "    )\n",
    "\n",
    "    print(\"ECG inspection plot generation completed.\") # Updated success message"
   ]
  }
 ],
 "metadata": {
  "kernelspec": {
   "display_name": "Python 3",
   "language": "python",
   "name": "python3"
  },
  "language_info": {
   "codemirror_mode": {
    "name": "ipython",
    "version": 3
   },
   "file_extension": ".py",
   "mimetype": "text/x-python",
   "name": "python",
   "nbconvert_exporter": "python",
   "pygments_lexer": "ipython3",
   "version": "3.9.21"
  }
 },
 "nbformat": 4,
 "nbformat_minor": 5
}
